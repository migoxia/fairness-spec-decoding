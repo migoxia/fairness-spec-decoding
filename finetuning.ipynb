{
 "cells": [
  {
   "cell_type": "code",
   "execution_count": 3,
   "id": "1d72b129-14aa-4640-afac-78216744c50e",
   "metadata": {
    "tags": []
   },
   "outputs": [],
   "source": [
    "name_model = \"EleutherAI/gpt-neo-1.3B\"\n",
    "alt_name_model = name_model.replace(\"/\", \"_\")\n",
    "name_assistant_model = \"EleutherAI/gpt-neo-125M\"\n",
    "alt_name_assistant_model = name_assistant_model.replace(\"/\", \"_\")\n"
   ]
  },
  {
   "cell_type": "code",
   "execution_count": 4,
   "id": "4de6c306-2b0f-465d-827d-0386afa07ffb",
   "metadata": {
    "tags": []
   },
   "outputs": [],
   "source": [
    "from datasets import load_dataset\n",
    "from transformers import (\n",
    "    AutoTokenizer,\n",
    "    AutoModelForCausalLM,    \n",
    "    TrainingArguments,\n",
    "    Trainer,\n",
    "    DataCollatorForLanguageModeling,\n",
    ")\n",
    "\n",
    "import torch\n",
    "import os\n",
    "import math\n",
    "\n",
    "batch_size = 8\n",
    "num_workers = os.cpu_count()\n",
    "# max_steps = 5\n",
    "bf16 = True\n",
    "fp16 = False\n",
    "gradient_accumulation_steps = 32\n",
    "context_length = 512\n",
    "logging_steps = 100\n",
    "save_steps = 100\n",
    "learning_rate = 0.00005\n",
    "num_train_epochs=1\n",
    "\n",
    "\n",
    "\n",
    "model_name='EleutherAI/gpt-neo-1.3B'\n",
    "ass_model_name = 'EleutherAI/gpt-neo-125M'\n",
    "\n",
    "dataset_dict = load_dataset('glue', 'sst2')\n",
    "dataset_train = dataset_dict['train']\n",
    "dataset_valid = dataset_dict['validation']\n",
    "\n",
    "tokenizer = AutoTokenizer.from_pretrained(model_name)\n",
    "tokenizer.pad_token = tokenizer.eos_token\n",
    "\n",
    "\n",
    "\n",
    "data_collator = DataCollatorForLanguageModeling(tokenizer=tokenizer, mlm=False, return_tensors=\"pt\")\n"
   ]
  },
  {
   "cell_type": "code",
   "execution_count": 7,
   "id": "02619b73-51a8-4176-9cc8-daaf47b92cfb",
   "metadata": {
    "tags": []
   },
   "outputs": [
    {
     "name": "stdout",
     "output_type": "stream",
     "text": [
      "['sentence', 'label', 'idx']\n",
      "{'sentence': 'hide new secretions from the parental units ', 'label': 0, 'idx': 0}\n"
     ]
    }
   ],
   "source": [
    "print(dataset_train.column_names)\n",
    "print(dataset_train[0])"
   ]
  },
  {
   "cell_type": "code",
   "execution_count": 5,
   "id": "1c64cf08-2414-4374-9333-6158f28999a6",
   "metadata": {
    "scrolled": true,
    "tags": []
   },
   "outputs": [
    {
     "name": "stdout",
     "output_type": "stream",
     "text": [
      "GPTNeoForCausalLM(\n",
      "  (transformer): GPTNeoModel(\n",
      "    (wte): Embedding(50257, 2048)\n",
      "    (wpe): Embedding(2048, 2048)\n",
      "    (drop): Dropout(p=0.0, inplace=False)\n",
      "    (h): ModuleList(\n",
      "      (0-23): 24 x GPTNeoBlock(\n",
      "        (ln_1): LayerNorm((2048,), eps=1e-05, elementwise_affine=True)\n",
      "        (attn): GPTNeoAttention(\n",
      "          (attention): GPTNeoSelfAttention(\n",
      "            (attn_dropout): Dropout(p=0.0, inplace=False)\n",
      "            (resid_dropout): Dropout(p=0.0, inplace=False)\n",
      "            (k_proj): Linear(in_features=2048, out_features=2048, bias=False)\n",
      "            (v_proj): Linear(in_features=2048, out_features=2048, bias=False)\n",
      "            (q_proj): Linear(in_features=2048, out_features=2048, bias=False)\n",
      "            (out_proj): Linear(in_features=2048, out_features=2048, bias=True)\n",
      "          )\n",
      "        )\n",
      "        (ln_2): LayerNorm((2048,), eps=1e-05, elementwise_affine=True)\n",
      "        (mlp): GPTNeoMLP(\n",
      "          (c_fc): Linear(in_features=2048, out_features=8192, bias=True)\n",
      "          (c_proj): Linear(in_features=8192, out_features=2048, bias=True)\n",
      "          (act): NewGELUActivation()\n",
      "          (dropout): Dropout(p=0.0, inplace=False)\n",
      "        )\n",
      "      )\n",
      "    )\n",
      "    (ln_f): LayerNorm((2048,), eps=1e-05, elementwise_affine=True)\n",
      "  )\n",
      "  (lm_head): Linear(in_features=2048, out_features=50257, bias=False)\n",
      ")\n",
      "main model 1,315,575,808 total parameters.\n",
      "main model 1,315,575,808 training parameters.\n"
     ]
    },
    {
     "data": {
      "text/html": [
       "\n",
       "    <div>\n",
       "      \n",
       "      <progress value='263' max='263' style='width:300px; height:20px; vertical-align: middle;'></progress>\n",
       "      [263/263 1:36:31, Epoch 0/1]\n",
       "    </div>\n",
       "    <table border=\"1\" class=\"dataframe\">\n",
       "  <thead>\n",
       " <tr style=\"text-align: left;\">\n",
       "      <th>Step</th>\n",
       "      <th>Training Loss</th>\n",
       "      <th>Validation Loss</th>\n",
       "    </tr>\n",
       "  </thead>\n",
       "  <tbody>\n",
       "    <tr>\n",
       "      <td>100</td>\n",
       "      <td>3.803500</td>\n",
       "      <td>3.530045</td>\n",
       "    </tr>\n",
       "    <tr>\n",
       "      <td>200</td>\n",
       "      <td>3.470800</td>\n",
       "      <td>3.511658</td>\n",
       "    </tr>\n",
       "  </tbody>\n",
       "</table><p>"
      ],
      "text/plain": [
       "<IPython.core.display.HTML object>"
      ]
     },
     "metadata": {},
     "output_type": "display_data"
    },
    {
     "name": "stderr",
     "output_type": "stream",
     "text": [
      "There were missing keys in the checkpoint model loaded: ['lm_head.weight'].\n"
     ]
    },
    {
     "data": {
      "text/plain": [
       "('neo_model/tokenizer_config.json',\n",
       " 'neo_model/special_tokens_map.json',\n",
       " 'neo_model/vocab.json',\n",
       " 'neo_model/merges.txt',\n",
       " 'neo_model/added_tokens.json',\n",
       " 'neo_model/tokenizer.json')"
      ]
     },
     "execution_count": 5,
     "metadata": {},
     "output_type": "execute_result"
    }
   ],
   "source": [
    "os.environ['PYTORCH_CUDA_ALLOC_CONF'] = 'max_split_size_mb:256'\n",
    "\n",
    "\n",
    "def preprocess_function(example):\n",
    "    final_tokens = tokenizer(\n",
    "        example['sentence'], \n",
    "        # example['text'],\n",
    "        max_length=context_length,\n",
    "        truncation=True,\n",
    "        padding=\"max_length\"\n",
    "    )\n",
    "    return final_tokens\n",
    "\n",
    "\n",
    "def group_texts(examples):\n",
    "    concatenated_examples = {k: sum(examples[k], []) for k in examples.keys()}\n",
    "    total_length = len(concatenated_examples[list(examples.keys())[0]])\n",
    "    if total_length >= context_length:\n",
    "        total_length = (total_length // context_length) * context_length\n",
    "    result = {\n",
    "        k: [t[i : i + context_length] for i in range(0, total_length, context_length)]\n",
    "        for k, t in concatenated_examples.items()\n",
    "    }\n",
    "    result[\"labels\"] = result[\"input_ids\"].copy()\n",
    "    return result"
   ]
  },
  {
   "cell_type": "code",
   "execution_count": null,
   "id": "f907d635-ba76-49c2-b8ce-c83d80bef71b",
   "metadata": {},
   "outputs": [],
   "source": [
    "tokenized_train = dataset_train.map(\n",
    "    preprocess_function,\n",
    "    num_proc=num_workers,\n",
    "    remove_columns=dataset_train.column_names,\n",
    ")\n",
    "\n",
    "tokenized_valid = dataset_valid.map(\n",
    "    preprocess_function,\n",
    "    num_proc=num_workers,\n",
    "    remove_columns=dataset_valid.column_names,\n",
    ")\n",
    "\n",
    "\n",
    "lm_dataset_train = tokenized_train.map(\n",
    "    group_texts, num_proc=num_workers, batched=True\n",
    ")\n",
    "lm_dataset_valid = tokenized_valid.map(\n",
    "    group_texts, num_proc=num_workers, batched=True\n",
    ")\n",
    "\n",
    "\n",
    "# os.environ['HF_HOME'] = '/root/autodl-tmp/cache/'\n",
    "\n",
    "if bf16:\n",
    "    model = AutoModelForCausalLM.from_pretrained(model_name).to(dtype=torch.bfloat16)\n",
    "else:\n",
    "    model = AutoModelForCausalLM.from_pretrained(model_name)\n",
    "    \n",
    "\n",
    "print(model)\n",
    "total_params = sum(p.numel() for p in model.parameters())\n",
    "print(f\"main model {total_params:,} total parameters.\")\n",
    "total_trainable_params = sum(\n",
    "    p.numel() for p in model.parameters() if p.requires_grad)\n",
    "print(f\"main model {total_trainable_params:,} training parameters.\")\n",
    "\n",
    "\n",
    "\n",
    "training_args = TrainingArguments(\n",
    "    output_dir='logs',\n",
    "    eval_strategy='steps',\n",
    "    weight_decay=0.01,\n",
    "    load_best_model_at_end=True,\n",
    "    per_device_train_batch_size=batch_size,\n",
    "    per_device_eval_batch_size=batch_size,\n",
    "    logging_strategy='steps',\n",
    "    save_strategy='steps',\n",
    "    # max_steps=max_steps,\n",
    "    logging_steps=logging_steps,\n",
    "    save_steps=save_steps,\n",
    "    save_total_limit=2,\n",
    "    bf16=bf16,\n",
    "    fp16=fp16,\n",
    "    report_to='tensorboard',\n",
    "    num_train_epochs=num_train_epochs,\n",
    "    dataloader_num_workers=num_workers,\n",
    "    gradient_accumulation_steps=gradient_accumulation_steps,\n",
    "    learning_rate=learning_rate,\n",
    "    lr_scheduler_type='constant',\n",
    ")\n",
    "\n",
    "trainer = Trainer(\n",
    "    model=model,\n",
    "    args=training_args,\n",
    "    train_dataset=lm_dataset_train,\n",
    "    eval_dataset=lm_dataset_valid,\n",
    "    data_collator=data_collator,\n",
    "    tokenizer=tokenizer,\n",
    ")\n",
    "torch.cuda.empty_cache()\n",
    "history = trainer.train()\n",
    "\n",
    "\n",
    "\n",
    "model.save_pretrained('neo_model')\n",
    "tokenizer.save_pretrained('neo_model')"
   ]
  },
  {
   "cell_type": "code",
   "execution_count": 6,
   "id": "02b1151c-aed5-4f09-8e47-c0366822689f",
   "metadata": {
    "scrolled": true,
    "tags": []
   },
   "outputs": [
    {
     "data": {
      "application/vnd.jupyter.widget-view+json": {
       "model_id": "b47a4e05ff914b5c8eff5901323350f7",
       "version_major": 2,
       "version_minor": 0
      },
      "text/plain": [
       "config.json:   0%|          | 0.00/1.01k [00:00<?, ?B/s]"
      ]
     },
     "metadata": {},
     "output_type": "display_data"
    },
    {
     "data": {
      "application/vnd.jupyter.widget-view+json": {
       "model_id": "8b9e4d5de01347489a5ebb180fbe4c31",
       "version_major": 2,
       "version_minor": 0
      },
      "text/plain": [
       "model.safetensors:   0%|          | 0.00/526M [00:00<?, ?B/s]"
      ]
     },
     "metadata": {},
     "output_type": "display_data"
    },
    {
     "data": {
      "application/vnd.jupyter.widget-view+json": {
       "model_id": "ea06364f6c5945e4a1c102ddaf400631",
       "version_major": 2,
       "version_minor": 0
      },
      "text/plain": [
       "generation_config.json:   0%|          | 0.00/119 [00:00<?, ?B/s]"
      ]
     },
     "metadata": {},
     "output_type": "display_data"
    },
    {
     "data": {
      "application/vnd.jupyter.widget-view+json": {
       "model_id": "b0001edd93914078a76675a81846c12c",
       "version_major": 2,
       "version_minor": 0
      },
      "text/plain": [
       "Downloading readme:   0%|          | 0.00/10.5k [00:00<?, ?B/s]"
      ]
     },
     "metadata": {},
     "output_type": "display_data"
    },
    {
     "data": {
      "application/vnd.jupyter.widget-view+json": {
       "model_id": "f7b9c7b157d24abbaf8483224b3196eb",
       "version_major": 2,
       "version_minor": 0
      },
      "text/plain": [
       "Downloading data:   0%|          | 0.00/733k [00:00<?, ?B/s]"
      ]
     },
     "metadata": {},
     "output_type": "display_data"
    },
    {
     "data": {
      "application/vnd.jupyter.widget-view+json": {
       "model_id": "d722ea73f08d4285ad40c44a2d89d6f6",
       "version_major": 2,
       "version_minor": 0
      },
      "text/plain": [
       "Downloading data:   0%|          | 0.00/6.36M [00:00<?, ?B/s]"
      ]
     },
     "metadata": {},
     "output_type": "display_data"
    },
    {
     "data": {
      "application/vnd.jupyter.widget-view+json": {
       "model_id": "15643ed343fa4e8e9d1d272f1970c9ca",
       "version_major": 2,
       "version_minor": 0
      },
      "text/plain": [
       "Downloading data:   0%|          | 0.00/657k [00:00<?, ?B/s]"
      ]
     },
     "metadata": {},
     "output_type": "display_data"
    },
    {
     "data": {
      "application/vnd.jupyter.widget-view+json": {
       "model_id": "15d914a225e246e0b65cc76290722e61",
       "version_major": 2,
       "version_minor": 0
      },
      "text/plain": [
       "Generating test split:   0%|          | 0/4358 [00:00<?, ? examples/s]"
      ]
     },
     "metadata": {},
     "output_type": "display_data"
    },
    {
     "data": {
      "application/vnd.jupyter.widget-view+json": {
       "model_id": "cf470856b0b84260a5181ef3bf4da7d8",
       "version_major": 2,
       "version_minor": 0
      },
      "text/plain": [
       "Generating train split:   0%|          | 0/36718 [00:00<?, ? examples/s]"
      ]
     },
     "metadata": {},
     "output_type": "display_data"
    },
    {
     "data": {
      "application/vnd.jupyter.widget-view+json": {
       "model_id": "c6ce973ac2d84221b4fbbb48362c35fc",
       "version_major": 2,
       "version_minor": 0
      },
      "text/plain": [
       "Generating validation split:   0%|          | 0/3760 [00:00<?, ? examples/s]"
      ]
     },
     "metadata": {},
     "output_type": "display_data"
    },
    {
     "name": "stdout",
     "output_type": "stream",
     "text": [
      "GPTNeoForCausalLM(\n",
      "  (transformer): GPTNeoModel(\n",
      "    (wte): Embedding(50257, 768)\n",
      "    (wpe): Embedding(2048, 768)\n",
      "    (drop): Dropout(p=0.0, inplace=False)\n",
      "    (h): ModuleList(\n",
      "      (0-11): 12 x GPTNeoBlock(\n",
      "        (ln_1): LayerNorm((768,), eps=1e-05, elementwise_affine=True)\n",
      "        (attn): GPTNeoAttention(\n",
      "          (attention): GPTNeoSelfAttention(\n",
      "            (attn_dropout): Dropout(p=0.0, inplace=False)\n",
      "            (resid_dropout): Dropout(p=0.0, inplace=False)\n",
      "            (k_proj): Linear(in_features=768, out_features=768, bias=False)\n",
      "            (v_proj): Linear(in_features=768, out_features=768, bias=False)\n",
      "            (q_proj): Linear(in_features=768, out_features=768, bias=False)\n",
      "            (out_proj): Linear(in_features=768, out_features=768, bias=True)\n",
      "          )\n",
      "        )\n",
      "        (ln_2): LayerNorm((768,), eps=1e-05, elementwise_affine=True)\n",
      "        (mlp): GPTNeoMLP(\n",
      "          (c_fc): Linear(in_features=768, out_features=3072, bias=True)\n",
      "          (c_proj): Linear(in_features=3072, out_features=768, bias=True)\n",
      "          (act): NewGELUActivation()\n",
      "          (dropout): Dropout(p=0.0, inplace=False)\n",
      "        )\n",
      "      )\n",
      "    )\n",
      "    (ln_f): LayerNorm((768,), eps=1e-05, elementwise_affine=True)\n",
      "  )\n",
      "  (lm_head): Linear(in_features=768, out_features=50257, bias=False)\n",
      ")\n",
      "assistant model 125,198,592 total parameters.\n",
      "assistant model 125,198,592 training parameters.\n"
     ]
    }
   ],
   "source": [
    "dataset_dict = load_dataset('wikitext', 'wikitext-2-raw-v1')\n",
    "dataset_train = dataset_dict['train']\n",
    "dataset_valid = dataset_dict['validation']\n",
    "\n",
    "\n",
    "tokenized_train = dataset_train.map(\n",
    "    preprocess_function,\n",
    "    num_proc=num_workers,\n",
    "    remove_columns=dataset_train.column_names,\n",
    ")\n",
    "\n",
    "tokenized_valid = dataset_valid.map(\n",
    "    preprocess_function,\n",
    "    num_proc=num_workers,\n",
    "    remove_columns=dataset_valid.column_names,\n",
    ")\n",
    "\n",
    "lm_dataset_train = tokenized_train.map(\n",
    "    group_texts, num_proc=num_workers, batched=True\n",
    ")\n",
    "lm_dataset_valid = tokenized_valid.map(\n",
    "    group_texts, num_proc=num_workers, batched=True\n",
    ")\n",
    "\n",
    "if bf16:\n",
    "    ass_model = AutoModelForCausalLM.from_pretrained(ass_model_name).to(dtype=torch.bfloat16)\n",
    "else:\n",
    "    ass_model = AutoModelForCausalLM.from_pretrained(ass_model_name)\n",
    "    \n",
    "\n",
    "# os.environ['CURL_CA_BUNDLE'] = ''\n",
    "\n",
    "print(ass_model)\n",
    "total_params = sum(p.numel() for p in ass_model.parameters())\n",
    "print(f\"assistant model {total_params:,} total parameters.\")\n",
    "total_trainable_params = sum(\n",
    "    p.numel() for p in ass_model.parameters() if p.requires_grad)\n",
    "print(f\"assistant model {total_trainable_params:,} training parameters.\")\n",
    "\n",
    "\n"
   ]
  },
  {
   "cell_type": "code",
   "execution_count": 7,
   "id": "70051aa0-ab96-447c-82f9-ca0f32ac6812",
   "metadata": {
    "tags": []
   },
   "outputs": [
    {
     "data": {
      "text/html": [
       "\n",
       "    <div>\n",
       "      \n",
       "      <progress value='263' max='263' style='width:300px; height:20px; vertical-align: middle;'></progress>\n",
       "      [263/263 17:17, Epoch 0/1]\n",
       "    </div>\n",
       "    <table border=\"1\" class=\"dataframe\">\n",
       "  <thead>\n",
       " <tr style=\"text-align: left;\">\n",
       "      <th>Step</th>\n",
       "      <th>Training Loss</th>\n",
       "      <th>Validation Loss</th>\n",
       "    </tr>\n",
       "  </thead>\n",
       "  <tbody>\n",
       "    <tr>\n",
       "      <td>100</td>\n",
       "      <td>4.979700</td>\n",
       "      <td>4.429636</td>\n",
       "    </tr>\n",
       "    <tr>\n",
       "      <td>200</td>\n",
       "      <td>4.511400</td>\n",
       "      <td>4.314662</td>\n",
       "    </tr>\n",
       "  </tbody>\n",
       "</table><p>"
      ],
      "text/plain": [
       "<IPython.core.display.HTML object>"
      ]
     },
     "metadata": {},
     "output_type": "display_data"
    },
    {
     "name": "stderr",
     "output_type": "stream",
     "text": [
      "There were missing keys in the checkpoint model loaded: ['lm_head.weight'].\n"
     ]
    },
    {
     "data": {
      "text/plain": [
       "('neo_assis_model/tokenizer_config.json',\n",
       " 'neo_assis_model/special_tokens_map.json',\n",
       " 'neo_assis_model/vocab.json',\n",
       " 'neo_assis_model/merges.txt',\n",
       " 'neo_assis_model/added_tokens.json',\n",
       " 'neo_assis_model/tokenizer.json')"
      ]
     },
     "execution_count": 7,
     "metadata": {},
     "output_type": "execute_result"
    }
   ],
   "source": [
    "ass_trainer = Trainer(\n",
    "    model=ass_model,\n",
    "    args=training_args,\n",
    "    train_dataset=lm_dataset_train,\n",
    "    eval_dataset=lm_dataset_valid,\n",
    "    data_collator=data_collator,\n",
    "    tokenizer=tokenizer,\n",
    ")\n",
    "ass_history = ass_trainer.train()\n",
    "ass_model.save_pretrained('neo_assis_model')\n",
    "tokenizer.save_pretrained('neo_assis_model')"
   ]
  }
 ],
 "metadata": {
  "kernelspec": {
   "display_name": "Python 3 (ipykernel)",
   "language": "python",
   "name": "python3"
  },
  "language_info": {
   "codemirror_mode": {
    "name": "ipython",
    "version": 3
   },
   "file_extension": ".py",
   "mimetype": "text/x-python",
   "name": "python",
   "nbconvert_exporter": "python",
   "pygments_lexer": "ipython3",
   "version": "3.8.10"
  }
 },
 "nbformat": 4,
 "nbformat_minor": 5
}
